{
  "nbformat": 4,
  "nbformat_minor": 0,
  "metadata": {
    "colab": {
      "provenance": []
    },
    "kernelspec": {
      "name": "python3",
      "display_name": "Python 3"
    },
    "language_info": {
      "name": "python"
    }
  },
  "cells": [
    {
      "cell_type": "markdown",
      "source": [
        "# Exploring JSON Files (Spring 2023)\n",
        "----------------------------------\n",
        "**Dr. Dave Wanik - OPIM 5502: Big Data Analytics with Cloud Computing - University of Connecticut**\n",
        "\n",
        "The purpose of this project is to get you comfortable working with JSON files. "
      ],
      "metadata": {
        "id": "r6iDyeIiLmZx"
      }
    },
    {
      "cell_type": "markdown",
      "source": [
        "* Your name here:Shailesh Yadav\n",
        "* Your NetID here:sry22001"
      ],
      "metadata": {
        "id": "P7z3yG2kZ_Xr"
      }
    },
    {
      "cell_type": "markdown",
      "source": [
        "# Download Data"
      ],
      "metadata": {
        "id": "-cncQ4qjNtFn"
      }
    },
    {
      "cell_type": "code",
      "source": [
        "!gdown 1ejm645rRkuIdt1VETpICmJbLGyxMCf7F\n",
        "!gdown 1nGfw8MOq_gYV55uJuFQ_1wgjpSIsvVw1"
      ],
      "metadata": {
        "colab": {
          "base_uri": "https://localhost:8080/"
        },
        "id": "XBaZ2OGxLs0j",
        "outputId": "4e79c297-83b7-45c2-a614-1c9e33192a7c"
      },
      "execution_count": null,
      "outputs": [
        {
          "output_type": "stream",
          "name": "stdout",
          "text": [
            "Downloading...\n",
            "From: https://drive.google.com/uc?id=1ejm645rRkuIdt1VETpICmJbLGyxMCf7F\n",
            "To: /content/Files/Ukraine.json\n",
            "100% 33.5k/33.5k [00:00<00:00, 40.3MB/s]\n",
            "Downloading...\n",
            "From: https://drive.google.com/uc?id=1nGfw8MOq_gYV55uJuFQ_1wgjpSIsvVw1\n",
            "To: /content/Files/London.json\n",
            "100% 30.6k/30.6k [00:00<00:00, 36.9MB/s]\n"
          ]
        }
      ]
    },
    {
      "cell_type": "markdown",
      "source": [
        "# Install Spark"
      ],
      "metadata": {
        "id": "Oytbqn4ILKTj"
      }
    },
    {
      "cell_type": "code",
      "source": [
        "# install java\n",
        "!apt-get install openjdk-8-jdk-headless -qq > /dev/null\n",
        "\n",
        "# install spark (change the version number if needed)\n",
        "# note that this is grabbing from the archive\n",
        "!wget -q https://archive.apache.org/dist/spark/spark-3.0.0/spark-3.0.0-bin-hadoop3.2.tgz\n",
        "\n",
        "# unzip the spark file to the current folder\n",
        "!tar xf spark-3.0.0-bin-hadoop3.2.tgz\n",
        "\n",
        "# set your spark folder to your system path environment. \n",
        "import os\n",
        "os.environ[\"JAVA_HOME\"] = \"/usr/lib/jvm/java-8-openjdk-amd64\"\n",
        "os.environ[\"SPARK_HOME\"] = \"/content/spark-3.0.0-bin-hadoop3.2\"\n",
        "\n",
        "\n",
        "# install findspark using pip\n",
        "!pip install -q findspark\n",
        "\n",
        "# findspark\n",
        "import findspark\n",
        "findspark.init()"
      ],
      "metadata": {
        "id": "FAEo-PgfK96F"
      },
      "execution_count": null,
      "outputs": []
    },
    {
      "cell_type": "markdown",
      "source": [
        "# Start session"
      ],
      "metadata": {
        "id": "CRxEW8DkGXCF"
      }
    },
    {
      "cell_type": "markdown",
      "source": [
        "We start the builder pattern `SparkSession.builder` and then chain a configuration parameter that defined the application name."
      ],
      "metadata": {
        "id": "JuJ0P_fPhMro"
      }
    },
    {
      "cell_type": "markdown",
      "source": [
        "Providing a useful `appName` helps you identify which programs are running on your Spark cluster."
      ],
      "metadata": {
        "id": "J2w5YYf2hsUx"
      }
    },
    {
      "cell_type": "code",
      "source": [
        "from pyspark.sql import SparkSession\n",
        "spark = SparkSession.builder\\\n",
        "        .appName(\"Exploring_JSON_actors\")\\\n",
        "        .getOrCreate()"
      ],
      "metadata": {
        "id": "O3AIwdPaGWTy"
      },
      "execution_count": null,
      "outputs": []
    },
    {
      "cell_type": "code",
      "source": [
        "import pyspark.sql.functions as F"
      ],
      "metadata": {
        "id": "Hl2SybkXzK3f"
      },
      "execution_count": null,
      "outputs": []
    },
    {
      "cell_type": "markdown",
      "source": [
        "# Q1.  Inspect the .html and .json files"
      ],
      "metadata": {
        "id": "Z_7XOjEjN2PC"
      }
    },
    {
      "cell_type": "markdown",
      "source": [
        "Imagine that someone just sent you the search results for these two queries. You can see that someone has been searching for 'top actors' in various cities (Kyiv, Ukraine and London, England.) The first geographic name referes to the 'top actors', and while the second set of geographic names looks duplicative, it is actually where you are telling Google to search from! "
      ],
      "metadata": {
        "id": "QHVji8REN8wY"
      }
    },
    {
      "cell_type": "markdown",
      "source": [
        "If you dig through the two JSON files, you can actually click through and see the HTML result! It is buried in the JSON file but you can find it after looking around. Just lop off the **%7C** at the end and you can see the raw webpage you grabbed.\n",
        "* https://serpapi.com/searches/2667d9f1ec89c315/63f12abf33b236a2bb4e555d.html%7C\n",
        "\n",
        "Here are the clean HTML files:\n",
        "* https://serpapi.com/searches/0fb523f94d3aeeac/63f12abda3f4ef6286fc8dfd.html\n",
        "* https://serpapi.com/searches/2667d9f1ec89c315/63f12abf33b236a2bb4e555d.html\n",
        "\n",
        "You can also replace the .html and just get the .json right away, too.\n",
        "* https://serpapi.com/searches/0fb523f94d3aeeac/63f12abda3f4ef6286fc8dfd.json\n",
        "* https://serpapi.com/searches/2667d9f1ec89c315/63f12abf33b236a2bb4e555d.json\n"
      ],
      "metadata": {
        "id": "C2__Wg8RTC8H"
      }
    },
    {
      "cell_type": "markdown",
      "source": [
        "Now that you have examined both the .html and .json files for these two search queries, **write down three interesting observations that you see**. Pay attention to how the structure of the .html website is efficiently captured in the .json file. No code here - just your qualitative observations."
      ],
      "metadata": {
        "id": "CC2s_vWxPGjR"
      }
    },
    {
      "cell_type": "markdown",
      "source": [
        "## Interesting Thing 1"
      ],
      "metadata": {
        "id": "Pa25rFgoX2Sc"
      }
    },
    {
      "cell_type": "markdown",
      "source": [
        "\n",
        "Search query for London produced 354 million results while for Ukraine it produced about 9 million results. This disparity could be because the number of actors in London are much more than that in Ukraine, and thus the search results for London are significantly higher."
      ],
      "metadata": {
        "id": "4iGSwnWjX_IJ"
      }
    },
    {
      "cell_type": "markdown",
      "source": [
        "## Interesting Thing 2"
      ],
      "metadata": {
        "id": "1ghY5pBMX4jv"
      }
    },
    {
      "cell_type": "markdown",
      "source": [
        "The language in the menu items and at several other place for the search query of London is not English, while it is for Ukraine, and the menu items are different as well for both the search results.\n",
        "\n",
        "When we look just below the search bar in the html or in the json file if we have a look at the 'menu_items' inside 'search_information', we can observe the difference. \n"
      ],
      "metadata": {
        "id": "V5pJO7GCX_om"
      }
    },
    {
      "cell_type": "markdown",
      "source": [
        "![image.png](data:image/png;base64,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)"
      ],
      "metadata": {
        "id": "1WmydpEqWcQV"
      }
    },
    {
      "cell_type": "markdown",
      "source": [
        "![image.png](data:image/png;base64,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)"
      ],
      "metadata": {
        "id": "h7zcvK77WnEu"
      }
    },
    {
      "cell_type": "markdown",
      "source": [
        "## Interesting Thing 3"
      ],
      "metadata": {
        "id": "GX9qWt71X5Xc"
      }
    },
    {
      "cell_type": "markdown",
      "source": [
        "The structure of the two json files are very different and it represents the differences observed in the two search results.\n",
        "\n",
        "1. The 'menu_items' in json for London are followed by 'related_questions' in search query for London, as the html page contains related questions, while there is no such section in search query for Ukraine.\n",
        "2. The 'menu_items' in json for Ukraine is followed by 'inline_images' as the search query outputs a section for images for top actors in Ukraine, while there is no such section in the search query for London.\n",
        "3. There is an 'answer_box' section in json file of London which is the the section visible just below the search bar of google in the html file, with the title 50 Great British Actors. Since there is no such section in search result for Ukraine, there is no such section in the json file as well.\n",
        "4. At the end of the json, there is a section for 'pagination'. This is the area where google contains the links for next pages. There are 5 for Ukraine while 10 for London."
      ],
      "metadata": {
        "id": "72myPcqqYAD-"
      }
    },
    {
      "cell_type": "markdown",
      "source": [
        "# 🔴 Ukraine"
      ],
      "metadata": {
        "id": "dU1fwUdVShsm"
      }
    },
    {
      "cell_type": "markdown",
      "source": [
        "I think this is the easier file to work with, so let's start here."
      ],
      "metadata": {
        "id": "5ruMbevKbCAb"
      }
    },
    {
      "cell_type": "markdown",
      "source": [
        "# Q2. Read the Ukraine .json file and printSchema()"
      ],
      "metadata": {
        "id": "QAyvKog4PfFe"
      }
    },
    {
      "cell_type": "code",
      "source": [
        "# Let's make a new folder to keep the json files\n",
        "%mkdir ./Files"
      ],
      "metadata": {
        "id": "lrzd5ON8H2tX",
        "colab": {
          "base_uri": "https://localhost:8080/"
        },
        "outputId": "b68171ec-85f2-476e-a286-fac3ed80bde5"
      },
      "execution_count": null,
      "outputs": [
        {
          "output_type": "stream",
          "name": "stdout",
          "text": [
            "mkdir: cannot create directory ‘./Files’: File exists\n"
          ]
        }
      ]
    },
    {
      "cell_type": "code",
      "source": [
        "# We'll move the json files to new folder\n",
        "%mv *.json /content/Files"
      ],
      "metadata": {
        "id": "oUzixYOLOn-m",
        "colab": {
          "base_uri": "https://localhost:8080/"
        },
        "outputId": "18942758-eda2-4b4c-f99b-a8420b62cab9"
      },
      "execution_count": null,
      "outputs": [
        {
          "output_type": "stream",
          "name": "stdout",
          "text": [
            "mv: 'London.json' and '/content/Files/London.json' are the same file\n",
            "mv: 'Ukraine.json' and '/content/Files/Ukraine.json' are the same file\n"
          ]
        }
      ]
    },
    {
      "cell_type": "code",
      "source": [
        "# Let's make this folder as the current directory\n",
        "%cd /content/Files"
      ],
      "metadata": {
        "colab": {
          "base_uri": "https://localhost:8080/"
        },
        "id": "WfYbIQ3yOvxI",
        "outputId": "6d961fd4-9624-47a8-db6a-53725a3c063d"
      },
      "execution_count": null,
      "outputs": [
        {
          "output_type": "stream",
          "name": "stdout",
          "text": [
            "/content/Files\n"
          ]
        }
      ]
    },
    {
      "cell_type": "code",
      "source": [
        "# Let's check if it worked\n",
        "%pwd"
      ],
      "metadata": {
        "colab": {
          "base_uri": "https://localhost:8080/",
          "height": 35
        },
        "id": "xVxG5BTlO2aj",
        "outputId": "c997e843-efa8-441f-b5e3-20da71ce5d04"
      },
      "execution_count": null,
      "outputs": [
        {
          "output_type": "execute_result",
          "data": {
            "text/plain": [
              "'/content/Files'"
            ],
            "application/vnd.google.colaboratory.intrinsic+json": {
              "type": "string"
            }
          },
          "metadata": {},
          "execution_count": 151
        }
      ]
    },
    {
      "cell_type": "code",
      "source": [
        "# Let's see the list of files in this folder\n",
        "%ls"
      ],
      "metadata": {
        "colab": {
          "base_uri": "https://localhost:8080/"
        },
        "id": "PWoBsW2APVS_",
        "outputId": "296ac817-d118-4ecd-9659-d7eee2f44e7d"
      },
      "execution_count": null,
      "outputs": [
        {
          "output_type": "stream",
          "name": "stdout",
          "text": [
            "\u001b[0m\u001b[01;34mFiles\u001b[0m/       \u001b[01;34mspark-3.0.0-bin-hadoop3.2\u001b[0m/     spark-3.0.0-bin-hadoop3.2.tgz.1\n",
            "London.json  spark-3.0.0-bin-hadoop3.2.tgz  Ukraine.json\n"
          ]
        }
      ]
    },
    {
      "cell_type": "code",
      "source": [
        "# Let's read the json file\n",
        "Ukraine = spark.read.json(\"./Files/Ukraine.json\")"
      ],
      "metadata": {
        "id": "NZ0h8JJeO4W6"
      },
      "execution_count": null,
      "outputs": []
    },
    {
      "cell_type": "code",
      "source": [
        "# First we'll check the schema\n",
        "Ukraine.printSchema()"
      ],
      "metadata": {
        "colab": {
          "base_uri": "https://localhost:8080/"
        },
        "id": "n01HdQv1QPKo",
        "outputId": "f9456dd5-ba45-4b78-b4cd-572ad4105ccf"
      },
      "execution_count": null,
      "outputs": [
        {
          "output_type": "stream",
          "name": "stdout",
          "text": [
            "root\n",
            " |-- inline_images: array (nullable = true)\n",
            " |    |-- element: struct (containsNull = true)\n",
            " |    |    |-- link: string (nullable = true)\n",
            " |    |    |-- original: string (nullable = true)\n",
            " |    |    |-- source: string (nullable = true)\n",
            " |    |    |-- source_name: string (nullable = true)\n",
            " |    |    |-- thumbnail: string (nullable = true)\n",
            " |    |    |-- title: string (nullable = true)\n",
            " |-- organic_results: array (nullable = true)\n",
            " |    |-- element: struct (containsNull = true)\n",
            " |    |    |-- about_page_link: string (nullable = true)\n",
            " |    |    |-- about_page_serpapi_link: string (nullable = true)\n",
            " |    |    |-- about_this_result: struct (nullable = true)\n",
            " |    |    |    |-- source: struct (nullable = true)\n",
            " |    |    |    |    |-- description: string (nullable = true)\n",
            " |    |    |    |    |-- icon: string (nullable = true)\n",
            " |    |    |    |    |-- security: string (nullable = true)\n",
            " |    |    |    |    |-- source_info_link: string (nullable = true)\n",
            " |    |    |-- cached_page_link: string (nullable = true)\n",
            " |    |    |-- date: string (nullable = true)\n",
            " |    |    |-- displayed_link: string (nullable = true)\n",
            " |    |    |-- displayed_results: string (nullable = true)\n",
            " |    |    |-- link: string (nullable = true)\n",
            " |    |    |-- position: long (nullable = true)\n",
            " |    |    |-- related_results: array (nullable = true)\n",
            " |    |    |    |-- element: struct (containsNull = true)\n",
            " |    |    |    |    |-- about_page_link: string (nullable = true)\n",
            " |    |    |    |    |-- about_page_serpapi_link: string (nullable = true)\n",
            " |    |    |    |    |-- about_this_result: struct (nullable = true)\n",
            " |    |    |    |    |    |-- source: struct (nullable = true)\n",
            " |    |    |    |    |    |    |-- description: string (nullable = true)\n",
            " |    |    |    |    |    |    |-- icon: string (nullable = true)\n",
            " |    |    |    |    |    |    |-- security: string (nullable = true)\n",
            " |    |    |    |    |    |    |-- source_info_link: string (nullable = true)\n",
            " |    |    |    |    |-- cached_page_link: string (nullable = true)\n",
            " |    |    |    |    |-- displayed_link: string (nullable = true)\n",
            " |    |    |    |    |-- link: string (nullable = true)\n",
            " |    |    |    |    |-- position: long (nullable = true)\n",
            " |    |    |    |    |-- snippet: string (nullable = true)\n",
            " |    |    |    |    |-- snippet_highlighted_words: array (nullable = true)\n",
            " |    |    |    |    |    |-- element: string (containsNull = true)\n",
            " |    |    |    |    |-- title: string (nullable = true)\n",
            " |    |    |-- rich_snippet: struct (nullable = true)\n",
            " |    |    |    |-- top: struct (nullable = true)\n",
            " |    |    |    |    |-- detected_extensions: struct (nullable = true)\n",
            " |    |    |    |    |    |-- jun: long (nullable = true)\n",
            " |    |    |    |    |    |-- results_of: long (nullable = true)\n",
            " |    |    |    |    |-- extensions: array (nullable = true)\n",
            " |    |    |    |    |    |-- element: string (containsNull = true)\n",
            " |    |    |-- rich_snippet_list: array (nullable = true)\n",
            " |    |    |    |-- element: string (containsNull = true)\n",
            " |    |    |-- snippet: string (nullable = true)\n",
            " |    |    |-- snippet_highlighted_words: array (nullable = true)\n",
            " |    |    |    |-- element: string (containsNull = true)\n",
            " |    |    |-- thumbnail: string (nullable = true)\n",
            " |    |    |-- title: string (nullable = true)\n",
            " |-- pagination: struct (nullable = true)\n",
            " |    |-- current: long (nullable = true)\n",
            " |    |-- next: string (nullable = true)\n",
            " |    |-- other_pages: struct (nullable = true)\n",
            " |    |    |-- 2: string (nullable = true)\n",
            " |    |    |-- 3: string (nullable = true)\n",
            " |    |    |-- 4: string (nullable = true)\n",
            " |    |    |-- 5: string (nullable = true)\n",
            " |-- related_searches: array (nullable = true)\n",
            " |    |-- element: struct (containsNull = true)\n",
            " |    |    |-- link: string (nullable = true)\n",
            " |    |    |-- query: string (nullable = true)\n",
            " |-- search_information: struct (nullable = true)\n",
            " |    |-- menu_items: array (nullable = true)\n",
            " |    |    |-- element: struct (containsNull = true)\n",
            " |    |    |    |-- link: string (nullable = true)\n",
            " |    |    |    |-- position: long (nullable = true)\n",
            " |    |    |    |-- serpapi_link: string (nullable = true)\n",
            " |    |    |    |-- title: string (nullable = true)\n",
            " |    |-- organic_results_state: string (nullable = true)\n",
            " |    |-- query_displayed: string (nullable = true)\n",
            " |    |-- time_taken_displayed: double (nullable = true)\n",
            " |    |-- total_results: long (nullable = true)\n",
            " |-- search_metadata: struct (nullable = true)\n",
            " |    |-- created_at: string (nullable = true)\n",
            " |    |-- google_url: string (nullable = true)\n",
            " |    |-- id: string (nullable = true)\n",
            " |    |-- json_endpoint: string (nullable = true)\n",
            " |    |-- processed_at: string (nullable = true)\n",
            " |    |-- raw_html_file: string (nullable = true)\n",
            " |    |-- status: string (nullable = true)\n",
            " |    |-- total_time_taken: double (nullable = true)\n",
            " |-- search_parameters: struct (nullable = true)\n",
            " |    |-- device: string (nullable = true)\n",
            " |    |-- engine: string (nullable = true)\n",
            " |    |-- google_domain: string (nullable = true)\n",
            " |    |-- location_requested: string (nullable = true)\n",
            " |    |-- location_used: string (nullable = true)\n",
            " |    |-- num: string (nullable = true)\n",
            " |    |-- q: string (nullable = true)\n",
            " |    |-- start: long (nullable = true)\n",
            " |-- serpapi_pagination: struct (nullable = true)\n",
            " |    |-- current: long (nullable = true)\n",
            " |    |-- next: string (nullable = true)\n",
            " |    |-- next_link: string (nullable = true)\n",
            " |    |-- other_pages: struct (nullable = true)\n",
            " |    |    |-- 2: string (nullable = true)\n",
            " |    |    |-- 3: string (nullable = true)\n",
            " |    |    |-- 4: string (nullable = true)\n",
            " |    |    |-- 5: string (nullable = true)\n",
            "\n"
          ]
        }
      ]
    },
    {
      "cell_type": "markdown",
      "source": [
        "Describe what you see in the schema."
      ],
      "metadata": {
        "id": "u9kMpWrMbIi8"
      }
    },
    {
      "cell_type": "markdown",
      "source": [
        "We can see that at first there is the root object which contains several other nested objects.\n",
        "\n",
        "PySpark took every top-level key -> the keys from the root object —> and parsed them as columns.\n",
        "When a column had a scalar value, the type was inferred according to the JSON specification\n",
        "\n",
        "At the first level of nesting, we have the following objects:\n",
        "- inline_images\n",
        "- organic_results\n",
        "- pagination\n",
        "- related_searches\n",
        "- search_information\n",
        "- search_metadata\n",
        "- search_parameters\n",
        "- serpapi_pagination\n",
        "\n",
        "Each of these objects have further levels of nesting inside of them.\n",
        "\n",
        "**These objects appear in alphabetical order and not in the order in which they are present in json.**"
      ],
      "metadata": {
        "id": "X7zIE9eijjB_"
      }
    },
    {
      "cell_type": "markdown",
      "source": [
        "# Q3. Extract the `organic_results.snippet` from the Ukraine .json\n",
        "Are there any actors listed here? What does the output look like?"
      ],
      "metadata": {
        "id": "fN0sKqnqQAbH"
      }
    },
    {
      "cell_type": "code",
      "source": [
        "# First, let's get the column names\n",
        "Ukraine.columns"
      ],
      "metadata": {
        "id": "J3Lkdux5QKRs",
        "colab": {
          "base_uri": "https://localhost:8080/"
        },
        "outputId": "7fc19e5e-e007-4dde-8274-08e73d9c881d"
      },
      "execution_count": null,
      "outputs": [
        {
          "output_type": "execute_result",
          "data": {
            "text/plain": [
              "['inline_images',\n",
              " 'organic_results',\n",
              " 'pagination',\n",
              " 'related_searches',\n",
              " 'search_information',\n",
              " 'search_metadata',\n",
              " 'search_parameters',\n",
              " 'serpapi_pagination']"
            ]
          },
          "metadata": {},
          "execution_count": 155
        }
      ]
    },
    {
      "cell_type": "code",
      "source": [
        "# Let's check the schema in 'organic_results'\n",
        "org_res = Ukraine.select(\"organic_results\")\n",
        "org_res.printSchema()"
      ],
      "metadata": {
        "colab": {
          "base_uri": "https://localhost:8080/"
        },
        "id": "Lm0KWnSHpFrw",
        "outputId": "019c904f-2b60-443e-8040-fbc082044eeb"
      },
      "execution_count": null,
      "outputs": [
        {
          "output_type": "stream",
          "name": "stdout",
          "text": [
            "root\n",
            " |-- organic_results: array (nullable = true)\n",
            " |    |-- element: struct (containsNull = true)\n",
            " |    |    |-- about_page_link: string (nullable = true)\n",
            " |    |    |-- about_page_serpapi_link: string (nullable = true)\n",
            " |    |    |-- about_this_result: struct (nullable = true)\n",
            " |    |    |    |-- source: struct (nullable = true)\n",
            " |    |    |    |    |-- description: string (nullable = true)\n",
            " |    |    |    |    |-- icon: string (nullable = true)\n",
            " |    |    |    |    |-- security: string (nullable = true)\n",
            " |    |    |    |    |-- source_info_link: string (nullable = true)\n",
            " |    |    |-- cached_page_link: string (nullable = true)\n",
            " |    |    |-- date: string (nullable = true)\n",
            " |    |    |-- displayed_link: string (nullable = true)\n",
            " |    |    |-- displayed_results: string (nullable = true)\n",
            " |    |    |-- link: string (nullable = true)\n",
            " |    |    |-- position: long (nullable = true)\n",
            " |    |    |-- related_results: array (nullable = true)\n",
            " |    |    |    |-- element: struct (containsNull = true)\n",
            " |    |    |    |    |-- about_page_link: string (nullable = true)\n",
            " |    |    |    |    |-- about_page_serpapi_link: string (nullable = true)\n",
            " |    |    |    |    |-- about_this_result: struct (nullable = true)\n",
            " |    |    |    |    |    |-- source: struct (nullable = true)\n",
            " |    |    |    |    |    |    |-- description: string (nullable = true)\n",
            " |    |    |    |    |    |    |-- icon: string (nullable = true)\n",
            " |    |    |    |    |    |    |-- security: string (nullable = true)\n",
            " |    |    |    |    |    |    |-- source_info_link: string (nullable = true)\n",
            " |    |    |    |    |-- cached_page_link: string (nullable = true)\n",
            " |    |    |    |    |-- displayed_link: string (nullable = true)\n",
            " |    |    |    |    |-- link: string (nullable = true)\n",
            " |    |    |    |    |-- position: long (nullable = true)\n",
            " |    |    |    |    |-- snippet: string (nullable = true)\n",
            " |    |    |    |    |-- snippet_highlighted_words: array (nullable = true)\n",
            " |    |    |    |    |    |-- element: string (containsNull = true)\n",
            " |    |    |    |    |-- title: string (nullable = true)\n",
            " |    |    |-- rich_snippet: struct (nullable = true)\n",
            " |    |    |    |-- top: struct (nullable = true)\n",
            " |    |    |    |    |-- detected_extensions: struct (nullable = true)\n",
            " |    |    |    |    |    |-- jun: long (nullable = true)\n",
            " |    |    |    |    |    |-- results_of: long (nullable = true)\n",
            " |    |    |    |    |-- extensions: array (nullable = true)\n",
            " |    |    |    |    |    |-- element: string (containsNull = true)\n",
            " |    |    |-- rich_snippet_list: array (nullable = true)\n",
            " |    |    |    |-- element: string (containsNull = true)\n",
            " |    |    |-- snippet: string (nullable = true)\n",
            " |    |    |-- snippet_highlighted_words: array (nullable = true)\n",
            " |    |    |    |-- element: string (containsNull = true)\n",
            " |    |    |-- thumbnail: string (nullable = true)\n",
            " |    |    |-- title: string (nullable = true)\n",
            "\n"
          ]
        }
      ]
    },
    {
      "cell_type": "code",
      "source": [
        "# Method1\n",
        "# This code first converts the object in seperate columns and then selects the snippet column\n",
        "# This makes the next questions much easier to attempt\n",
        "org_res_columns = org_res.withColumn(\"subset\",F.explode(\"organic_results\")).select('subset.*')\n",
        "org_res_columns.select(\"snippet\").show(truncate = False)"
      ],
      "metadata": {
        "colab": {
          "base_uri": "https://localhost:8080/"
        },
        "id": "nTNtchMg4t28",
        "outputId": "f7b3ea59-586e-4819-d80a-541f3bcf6800"
      },
      "execution_count": null,
      "outputs": [
        {
          "output_type": "stream",
          "name": "stdout",
          "text": [
            "+---------------------------------------------------------------------------------------------------------------------------------------------------------+\n",
            "|snippet                                                                                                                                                  |\n",
            "+---------------------------------------------------------------------------------------------------------------------------------------------------------+\n",
            "|Alec Utgoff is a British actor best known for playing 'Alexei' in the Netflix hit show, ... Ivanna Sakhno was born on November 14, 1997 in Kiev, Ukraine.|\n",
            "|From Ben Stiller to Jessica Chastain, celebrities have embraced Ukraine's president and offered support to the country's war effort.                     |\n",
            "|Zelenskyy wrote on his social media page that Sean Penn is in Ukraine filming a movie about the war. He also said that Penn was in Ukraine ...           |\n",
            "|Ukrainian actor Roman Matsiyta was ready to fight once the war began. He has no hesitation when it comes to defending his homeland.                      |\n",
            "|Ukrainian President Volodymyr Zelensky met with Ben Stiller on Monday after the actor toured parts of the war-ravaged county, advocating for ...         |\n",
            "|The Hindi film's lead actor Liza is stuck in the city of Dnipro, southeast of the Ukrainian capital Kyiv, he said.                                       |\n",
            "|Top Kyiv Theaters: See reviews and photos of Theaters in Kyiv, Ukraine on Tripadvisor.                                                                   |\n",
            "|On Saturday, Russian troops advanced on the capital city of Kyiv as Ukrainian forces struggled to hold on to the city.                                   |\n",
            "+---------------------------------------------------------------------------------------------------------------------------------------------------------+\n",
            "\n"
          ]
        }
      ]
    },
    {
      "cell_type": "code",
      "source": [
        "# Method2\n",
        "# We can directly obtain just the snippet using the following code as well\n",
        "org_res.select(F.explode('organic_results.snippet').alias(\"snippet\")).show(truncate = False)"
      ],
      "metadata": {
        "colab": {
          "base_uri": "https://localhost:8080/"
        },
        "id": "8tS1z4fR7GmU",
        "outputId": "aeb56ffd-57bc-4dba-d4ef-5489fe279bf3"
      },
      "execution_count": null,
      "outputs": [
        {
          "output_type": "stream",
          "name": "stdout",
          "text": [
            "+---------------------------------------------------------------------------------------------------------------------------------------------------------+\n",
            "|snippet                                                                                                                                                  |\n",
            "+---------------------------------------------------------------------------------------------------------------------------------------------------------+\n",
            "|Alec Utgoff is a British actor best known for playing 'Alexei' in the Netflix hit show, ... Ivanna Sakhno was born on November 14, 1997 in Kiev, Ukraine.|\n",
            "|From Ben Stiller to Jessica Chastain, celebrities have embraced Ukraine's president and offered support to the country's war effort.                     |\n",
            "|Zelenskyy wrote on his social media page that Sean Penn is in Ukraine filming a movie about the war. He also said that Penn was in Ukraine ...           |\n",
            "|Ukrainian actor Roman Matsiyta was ready to fight once the war began. He has no hesitation when it comes to defending his homeland.                      |\n",
            "|Ukrainian President Volodymyr Zelensky met with Ben Stiller on Monday after the actor toured parts of the war-ravaged county, advocating for ...         |\n",
            "|The Hindi film's lead actor Liza is stuck in the city of Dnipro, southeast of the Ukrainian capital Kyiv, he said.                                       |\n",
            "|Top Kyiv Theaters: See reviews and photos of Theaters in Kyiv, Ukraine on Tripadvisor.                                                                   |\n",
            "|On Saturday, Russian troops advanced on the capital city of Kyiv as Ukrainian forces struggled to hold on to the city.                                   |\n",
            "+---------------------------------------------------------------------------------------------------------------------------------------------------------+\n",
            "\n"
          ]
        }
      ]
    },
    {
      "cell_type": "markdown",
      "source": [
        "Yes, there are actors listed in the 'snippet'\n",
        "\n",
        "The ouput resembles the text that we see below the links in the html page."
      ],
      "metadata": {
        "id": "5CqF5Y-0Etct"
      }
    },
    {
      "cell_type": "markdown",
      "source": [
        "# Q4. Extract the `organic_results.snippet_highlighted_words` from the Ukraine .json\n",
        "Are there any actors listed here? What does the output look like?"
      ],
      "metadata": {
        "id": "lPODRsJ8QRHM"
      }
    },
    {
      "cell_type": "code",
      "source": [
        "# We can easily select this column from the dataframe we created earlier\n",
        "org_res_columns.select(\"snippet_highlighted_words\").show(truncate = False)"
      ],
      "metadata": {
        "id": "OhELR6fyQwvB",
        "colab": {
          "base_uri": "https://localhost:8080/"
        },
        "outputId": "4b6dcff8-a46f-4d45-e68d-3df4e283c8ea"
      },
      "execution_count": null,
      "outputs": [
        {
          "output_type": "stream",
          "name": "stdout",
          "text": [
            "+------------------------------+\n",
            "|snippet_highlighted_words     |\n",
            "+------------------------------+\n",
            "|[actor best, Kiev, Ukraine]   |\n",
            "|[Ukraine's]                   |\n",
            "|null                          |\n",
            "|[Ukrainian actor]             |\n",
            "|[Ukrainian, actor]            |\n",
            "|[actor, city, Ukrainian, Kyiv]|\n",
            "|[Top Kyiv, Kyiv, Ukraine]     |\n",
            "|[city, Kyiv, Ukrainian, city] |\n",
            "+------------------------------+\n",
            "\n"
          ]
        }
      ]
    },
    {
      "cell_type": "markdown",
      "source": [
        "There does not seem to be any actor listed in the output.\n",
        "\n",
        "The output resembles the highlighted words below the links, i.e. in the snippets in the html page."
      ],
      "metadata": {
        "id": "1pB9_vkVEgP3"
      }
    },
    {
      "cell_type": "markdown",
      "source": [
        "# Q5. Extract the `search_parameters.q` to get the name of the search query\n",
        "Does the search you extracted match the search on the HTML page?\n",
        "\n"
      ],
      "metadata": {
        "id": "UgI1N3O2QxPa"
      }
    },
    {
      "cell_type": "code",
      "source": [
        "Ukraine.select('search_parameters.q').show(truncate = False)"
      ],
      "metadata": {
        "id": "BLkf3fy6Q6Uy",
        "colab": {
          "base_uri": "https://localhost:8080/"
        },
        "outputId": "2c1d6442-cd42-4bcf-9438-17d961ea1f49"
      },
      "execution_count": null,
      "outputs": [
        {
          "output_type": "stream",
          "name": "stdout",
          "text": [
            "+------------------------------------+\n",
            "|q                                   |\n",
            "+------------------------------------+\n",
            "|top actors in Kyiv,Kyiv city,Ukraine|\n",
            "+------------------------------------+\n",
            "\n"
          ]
        }
      ]
    },
    {
      "cell_type": "markdown",
      "source": [
        "It matches the search query on the html page."
      ],
      "metadata": {
        "id": "wJVfbERDHZnw"
      }
    },
    {
      "cell_type": "markdown",
      "source": [
        "# Q6. Extract the list of 12 names listed as the first SERP result from the Ukraine .json\n",
        "Where was this information hiding in the .json?"
      ],
      "metadata": {
        "id": "brYPiGSEQ685"
      }
    },
    {
      "cell_type": "code",
      "source": [
        "# This information is present in the rich_snippet_list inside organic results\n",
        "org_res_columns.select(F.explode(\"rich_snippet_list\").alias('names')).show(12, truncate = False)"
      ],
      "metadata": {
        "id": "nPCGvoXQRG7o",
        "colab": {
          "base_uri": "https://localhost:8080/"
        },
        "outputId": "4c782627-da3f-4016-e646-f480eaa5153b"
      },
      "execution_count": null,
      "outputs": [
        {
          "output_type": "stream",
          "name": "stdout",
          "text": [
            "+----------------+\n",
            "|names           |\n",
            "+----------------+\n",
            "|Ivanna Sakhno   |\n",
            "|Natalie Burn    |\n",
            "|Gene Stupnitsky |\n",
            "|Ilia Volok      |\n",
            "|Oleg Zagorodnii |\n",
            "|Aleksey Gorbunov|\n",
            "|Ana Layevska    |\n",
            "|Larisa Polonsky |\n",
            "|Anna Sten       |\n",
            "|Vadim Perelman  |\n",
            "|Anna Sedokova   |\n",
            "|Alex Feldman    |\n",
            "+----------------+\n",
            "\n"
          ]
        }
      ]
    },
    {
      "cell_type": "markdown",
      "source": [
        "This information is present under 'rich_snippet_list' nested inside the first entry in 'organic_results'."
      ],
      "metadata": {
        "id": "b5cCDmaLG49q"
      }
    },
    {
      "cell_type": "markdown",
      "source": [
        "# Q7. Extract a list of the 9 websites listed on the Ukraine .json\n",
        "Sometimes Google (SERP API) does not return 10 related searches, it will give you less! To be clear, I would like all of the links from the 9 positions within the organic results. Names should include imdb.com, theguardian.com, euronews.com etc."
      ],
      "metadata": {
        "id": "tq_WKPVFSBcg"
      }
    },
    {
      "cell_type": "code",
      "source": [
        "# First, let's get the links from organic_results\n",
        "org_links1 = org_res_columns.select(\"link\").withColumnRenamed('link', 'websites')\n",
        "org_links1.show(truncate = False)"
      ],
      "metadata": {
        "id": "u2I-H4ZVSqdE",
        "colab": {
          "base_uri": "https://localhost:8080/"
        },
        "outputId": "178da58c-3574-4d9a-ce28-35dbf86c2856"
      },
      "execution_count": null,
      "outputs": [
        {
          "output_type": "stream",
          "name": "stdout",
          "text": [
            "+------------------------------------------------------------------------------------------------------------------------------------+\n",
            "|websites                                                                                                                            |\n",
            "+------------------------------------------------------------------------------------------------------------------------------------+\n",
            "|https://www.imdb.com/search/name/?birth_place=Kiev,+Ukraine                                                                         |\n",
            "|https://www.theguardian.com/world/2023/jan/08/ukraine-how-zelenskiy-hollywood-man-of-the-hour                                       |\n",
            "|https://www.euronews.com/video/2022/06/28/us-actor-penn-meets-zelenskyy-in-kyiv                                                     |\n",
            "|https://nypost.com/2022/03/06/ukrainian-actor-who-played-soldier-takes-up-arms-vs-russians/                                         |\n",
            "|https://www.newsweek.com/meet-zelensky-actor-ben-stiller-tours-war-ravaged-kyiv-irpin-1717460                                       |\n",
            "|https://www.tribuneindia.com/news/nation/three-ukrainian-actors-who-shot-for-hindi-film-love-in-ukraine-missing-says-director-389883|\n",
            "|https://www.tripadvisor.com/Attractions-g294474-Activities-c58-t116-Kyiv.html                                                       |\n",
            "|https://www.latimes.com/entertainment-arts/business/story/2022-02-26/actor-sean-penn-in-ukraine-zelensky-russia-conflict            |\n",
            "+------------------------------------------------------------------------------------------------------------------------------------+\n",
            "\n"
          ]
        }
      ]
    },
    {
      "cell_type": "code",
      "source": [
        "# If we have a column of related_results in organic_results, we will extract the links from the related_results column and drop the null rows\n",
        "if('related_results' in org_res_columns.columns):\n",
        "  rres1 = org_res_columns.withColumn(\"subset\",F.explode(\"related_results\")).select('subset.link').dropna()\n",
        "  rres1.show(truncate=False)"
      ],
      "metadata": {
        "colab": {
          "base_uri": "https://localhost:8080/"
        },
        "id": "UWUM5dkPhjQ4",
        "outputId": "0b2ec57a-a2d5-4d3a-8ac6-4fe1ec8f29fb"
      },
      "execution_count": null,
      "outputs": [
        {
          "output_type": "stream",
          "name": "stdout",
          "text": [
            "+-----------------------------------------------------+\n",
            "|link                                                 |\n",
            "+-----------------------------------------------------+\n",
            "|https://www.imdb.com/search/name/?birth_place=Ukraine|\n",
            "+-----------------------------------------------------+\n",
            "\n"
          ]
        }
      ]
    },
    {
      "cell_type": "code",
      "source": [
        "# Finally, we'll get the link from the answer box, if there is one\n",
        "if('answer_box' in Ukraine.columns):\n",
        "  ans_box_link1 = Ukraine.select('answer_box.link')\n",
        "  ans_box_link1.show(truncate=False)\n",
        "  flag = 0\n",
        "else:\n",
        "  print('No Answer Box')\n",
        "  flag = 1"
      ],
      "metadata": {
        "colab": {
          "base_uri": "https://localhost:8080/"
        },
        "id": "Sz8XqXmJ2jOj",
        "outputId": "f5e6b561-2dd9-4b8b-b7ef-07adae668672"
      },
      "execution_count": null,
      "outputs": [
        {
          "output_type": "stream",
          "name": "stdout",
          "text": [
            "No Answer Box\n"
          ]
        }
      ]
    },
    {
      "cell_type": "code",
      "source": [
        "# Let's concatenate all the dataframes\n",
        "from functools import reduce\n",
        "if flag == 1:\n",
        "  dfs1 = [org_links1, rres1]\n",
        "else:\n",
        "  dfs1 = [org_links1, rres1, ans_box_link1]\n",
        "\n",
        "result1 = reduce(F.DataFrame.unionAll, dfs1)\n",
        "result1.show(truncate=False)"
      ],
      "metadata": {
        "colab": {
          "base_uri": "https://localhost:8080/"
        },
        "id": "vnXvcmxb2Vu5",
        "outputId": "41444370-f255-4a9a-e47f-47c5c9062663"
      },
      "execution_count": null,
      "outputs": [
        {
          "output_type": "stream",
          "name": "stdout",
          "text": [
            "+------------------------------------------------------------------------------------------------------------------------------------+\n",
            "|websites                                                                                                                            |\n",
            "+------------------------------------------------------------------------------------------------------------------------------------+\n",
            "|https://www.imdb.com/search/name/?birth_place=Kiev,+Ukraine                                                                         |\n",
            "|https://www.theguardian.com/world/2023/jan/08/ukraine-how-zelenskiy-hollywood-man-of-the-hour                                       |\n",
            "|https://www.euronews.com/video/2022/06/28/us-actor-penn-meets-zelenskyy-in-kyiv                                                     |\n",
            "|https://nypost.com/2022/03/06/ukrainian-actor-who-played-soldier-takes-up-arms-vs-russians/                                         |\n",
            "|https://www.newsweek.com/meet-zelensky-actor-ben-stiller-tours-war-ravaged-kyiv-irpin-1717460                                       |\n",
            "|https://www.tribuneindia.com/news/nation/three-ukrainian-actors-who-shot-for-hindi-film-love-in-ukraine-missing-says-director-389883|\n",
            "|https://www.tripadvisor.com/Attractions-g294474-Activities-c58-t116-Kyiv.html                                                       |\n",
            "|https://www.latimes.com/entertainment-arts/business/story/2022-02-26/actor-sean-penn-in-ukraine-zelensky-russia-conflict            |\n",
            "|https://www.imdb.com/search/name/?birth_place=Ukraine                                                                               |\n",
            "+------------------------------------------------------------------------------------------------------------------------------------+\n",
            "\n"
          ]
        }
      ]
    },
    {
      "cell_type": "markdown",
      "source": [
        "# 🔴 London"
      ],
      "metadata": {
        "id": "eg_QEX8QSq5S"
      }
    },
    {
      "cell_type": "markdown",
      "source": [
        "# Q8. Extract the list of famous actors from the first result on the London .json\n",
        "\n",
        "```\n",
        "Richard Foreman. Christian Bale. ...\n",
        "Nick Briggs. Sean Bean. ...\n",
        "Kate Beckinsale. ...\n",
        "Dirk Bogarde. ...\n",
        "Michael Caine. ...\n",
        "John Cleese. ...\n",
        "Sacha Baron Cohen. ..\n",
        "```"
      ],
      "metadata": {
        "id": "_Pdj95QFS3Ae"
      }
    },
    {
      "cell_type": "markdown",
      "source": [
        "This one is a bit tough to extract because it is 'hiding' in an answer box (notice how this first search result is prominent and specially formatted by Google.) It is NOT the first result (from Position 1) of the organic results.\n",
        "\n",
        "While it is easy for you to just retrieve the answer (once you find it in the JSON), why not practice your PySpark and also clean up the information - I see 9 names in the answer box, please make me a table with one column called actors and 9 rows, one for each actor. **Hint:** You can use the `.` as a delimiter and replace all `...` with nothing..."
      ],
      "metadata": {
        "id": "3B8kko_STMlt"
      }
    },
    {
      "cell_type": "code",
      "source": [
        "# Let's read the json file\n",
        "London = spark.read.json(\"./Files/London.json\")"
      ],
      "metadata": {
        "id": "PyGHBPfIUIZ9"
      },
      "execution_count": null,
      "outputs": []
    },
    {
      "cell_type": "code",
      "source": [
        "# First we'll check the schema\n",
        "London.printSchema()"
      ],
      "metadata": {
        "colab": {
          "base_uri": "https://localhost:8080/"
        },
        "outputId": "9c3c6729-a201-4184-dec5-6007bb8b360c",
        "id": "z1iiN5evK4EH"
      },
      "execution_count": null,
      "outputs": [
        {
          "output_type": "stream",
          "name": "stdout",
          "text": [
            "root\n",
            " |-- answer_box: struct (nullable = true)\n",
            " |    |-- about_this_result: struct (nullable = true)\n",
            " |    |    |-- source: struct (nullable = true)\n",
            " |    |    |    |-- description: string (nullable = true)\n",
            " |    |    |    |-- icon: string (nullable = true)\n",
            " |    |    |    |-- security: string (nullable = true)\n",
            " |    |    |    |-- source_info_link: string (nullable = true)\n",
            " |    |-- date: string (nullable = true)\n",
            " |    |-- displayed_link: string (nullable = true)\n",
            " |    |-- images: array (nullable = true)\n",
            " |    |    |-- element: string (containsNull = true)\n",
            " |    |-- link: string (nullable = true)\n",
            " |    |-- list: array (nullable = true)\n",
            " |    |    |-- element: string (containsNull = true)\n",
            " |    |-- snippet: string (nullable = true)\n",
            " |    |-- snippet_highlighted_words: array (nullable = true)\n",
            " |    |    |-- element: string (containsNull = true)\n",
            " |    |-- title: string (nullable = true)\n",
            " |    |-- type: string (nullable = true)\n",
            " |-- organic_results: array (nullable = true)\n",
            " |    |-- element: struct (containsNull = true)\n",
            " |    |    |-- about_this_result: struct (nullable = true)\n",
            " |    |    |    |-- source: struct (nullable = true)\n",
            " |    |    |    |    |-- description: string (nullable = true)\n",
            " |    |    |    |    |-- icon: string (nullable = true)\n",
            " |    |    |    |    |-- security: string (nullable = true)\n",
            " |    |    |    |    |-- source_info_link: string (nullable = true)\n",
            " |    |    |-- cached_page_link: string (nullable = true)\n",
            " |    |    |-- date: string (nullable = true)\n",
            " |    |    |-- displayed_link: string (nullable = true)\n",
            " |    |    |-- link: string (nullable = true)\n",
            " |    |    |-- missing: array (nullable = true)\n",
            " |    |    |    |-- element: string (containsNull = true)\n",
            " |    |    |-- must_include: struct (nullable = true)\n",
            " |    |    |    |-- link: string (nullable = true)\n",
            " |    |    |    |-- word: string (nullable = true)\n",
            " |    |    |-- position: long (nullable = true)\n",
            " |    |    |-- related_results: array (nullable = true)\n",
            " |    |    |    |-- element: struct (containsNull = true)\n",
            " |    |    |    |    |-- about_this_result: struct (nullable = true)\n",
            " |    |    |    |    |    |-- source: struct (nullable = true)\n",
            " |    |    |    |    |    |    |-- description: string (nullable = true)\n",
            " |    |    |    |    |    |    |-- icon: string (nullable = true)\n",
            " |    |    |    |    |    |    |-- security: string (nullable = true)\n",
            " |    |    |    |    |    |    |-- source_info_link: string (nullable = true)\n",
            " |    |    |    |    |-- cached_page_link: string (nullable = true)\n",
            " |    |    |    |    |-- displayed_link: string (nullable = true)\n",
            " |    |    |    |    |-- link: string (nullable = true)\n",
            " |    |    |    |    |-- position: long (nullable = true)\n",
            " |    |    |    |    |-- snippet: string (nullable = true)\n",
            " |    |    |    |    |-- snippet_highlighted_words: array (nullable = true)\n",
            " |    |    |    |    |    |-- element: string (containsNull = true)\n",
            " |    |    |    |    |-- title: string (nullable = true)\n",
            " |    |    |-- rich_snippet: struct (nullable = true)\n",
            " |    |    |    |-- top: struct (nullable = true)\n",
            " |    |    |    |    |-- detected_extensions: struct (nullable = true)\n",
            " |    |    |    |    |    |-- jan: long (nullable = true)\n",
            " |    |    |    |    |    |-- jul: long (nullable = true)\n",
            " |    |    |    |    |-- extensions: array (nullable = true)\n",
            " |    |    |    |    |    |-- element: string (containsNull = true)\n",
            " |    |    |-- snippet: string (nullable = true)\n",
            " |    |    |-- snippet_highlighted_words: array (nullable = true)\n",
            " |    |    |    |-- element: string (containsNull = true)\n",
            " |    |    |-- thumbnail: string (nullable = true)\n",
            " |    |    |-- title: string (nullable = true)\n",
            " |-- pagination: struct (nullable = true)\n",
            " |    |-- current: long (nullable = true)\n",
            " |    |-- next: string (nullable = true)\n",
            " |    |-- other_pages: struct (nullable = true)\n",
            " |    |    |-- 10: string (nullable = true)\n",
            " |    |    |-- 2: string (nullable = true)\n",
            " |    |    |-- 3: string (nullable = true)\n",
            " |    |    |-- 4: string (nullable = true)\n",
            " |    |    |-- 5: string (nullable = true)\n",
            " |    |    |-- 6: string (nullable = true)\n",
            " |    |    |-- 7: string (nullable = true)\n",
            " |    |    |-- 8: string (nullable = true)\n",
            " |    |    |-- 9: string (nullable = true)\n",
            " |-- related_questions: array (nullable = true)\n",
            " |    |-- element: struct (containsNull = true)\n",
            " |    |    |-- date: string (nullable = true)\n",
            " |    |    |-- displayed_link: string (nullable = true)\n",
            " |    |    |-- link: string (nullable = true)\n",
            " |    |    |-- list: array (nullable = true)\n",
            " |    |    |    |-- element: string (containsNull = true)\n",
            " |    |    |-- next_page_token: string (nullable = true)\n",
            " |    |    |-- question: string (nullable = true)\n",
            " |    |    |-- serpapi_link: string (nullable = true)\n",
            " |    |    |-- snippet: string (nullable = true)\n",
            " |    |    |-- thumbnail: string (nullable = true)\n",
            " |    |    |-- title: string (nullable = true)\n",
            " |-- related_searches: array (nullable = true)\n",
            " |    |-- element: struct (containsNull = true)\n",
            " |    |    |-- link: string (nullable = true)\n",
            " |    |    |-- query: string (nullable = true)\n",
            " |-- search_information: struct (nullable = true)\n",
            " |    |-- menu_items: array (nullable = true)\n",
            " |    |    |-- element: struct (containsNull = true)\n",
            " |    |    |    |-- link: string (nullable = true)\n",
            " |    |    |    |-- position: long (nullable = true)\n",
            " |    |    |    |-- serpapi_link: string (nullable = true)\n",
            " |    |    |    |-- title: string (nullable = true)\n",
            " |    |-- organic_results_state: string (nullable = true)\n",
            " |    |-- query_displayed: string (nullable = true)\n",
            " |    |-- time_taken_displayed: double (nullable = true)\n",
            " |    |-- total_results: long (nullable = true)\n",
            " |-- search_metadata: struct (nullable = true)\n",
            " |    |-- created_at: string (nullable = true)\n",
            " |    |-- google_url: string (nullable = true)\n",
            " |    |-- id: string (nullable = true)\n",
            " |    |-- json_endpoint: string (nullable = true)\n",
            " |    |-- processed_at: string (nullable = true)\n",
            " |    |-- raw_html_file: string (nullable = true)\n",
            " |    |-- status: string (nullable = true)\n",
            " |    |-- total_time_taken: double (nullable = true)\n",
            " |-- search_parameters: struct (nullable = true)\n",
            " |    |-- device: string (nullable = true)\n",
            " |    |-- engine: string (nullable = true)\n",
            " |    |-- google_domain: string (nullable = true)\n",
            " |    |-- location_requested: string (nullable = true)\n",
            " |    |-- location_used: string (nullable = true)\n",
            " |    |-- num: string (nullable = true)\n",
            " |    |-- q: string (nullable = true)\n",
            " |    |-- start: long (nullable = true)\n",
            " |-- serpapi_pagination: struct (nullable = true)\n",
            " |    |-- current: long (nullable = true)\n",
            " |    |-- next: string (nullable = true)\n",
            " |    |-- next_link: string (nullable = true)\n",
            " |    |-- other_pages: struct (nullable = true)\n",
            " |    |    |-- 10: string (nullable = true)\n",
            " |    |    |-- 2: string (nullable = true)\n",
            " |    |    |-- 3: string (nullable = true)\n",
            " |    |    |-- 4: string (nullable = true)\n",
            " |    |    |-- 5: string (nullable = true)\n",
            " |    |    |-- 6: string (nullable = true)\n",
            " |    |    |-- 7: string (nullable = true)\n",
            " |    |    |-- 8: string (nullable = true)\n",
            " |    |    |-- 9: string (nullable = true)\n",
            "\n"
          ]
        }
      ]
    },
    {
      "cell_type": "code",
      "source": [
        "# Let's check how the list of actors looks like\n",
        "subset = London.select('answer_box.list')\n",
        "subset.show(truncate = False)"
      ],
      "metadata": {
        "id": "WyMN88qZSEg9",
        "colab": {
          "base_uri": "https://localhost:8080/"
        },
        "outputId": "d6363bd5-ac54-409e-c5b5-49fa68b6c72a"
      },
      "execution_count": null,
      "outputs": [
        {
          "output_type": "stream",
          "name": "stdout",
          "text": [
            "+-----------------------------------------------------------------------------------------------------------------------------------------------------------------------------------------------------------------------+\n",
            "|list                                                                                                                                                                                                                   |\n",
            "+-----------------------------------------------------------------------------------------------------------------------------------------------------------------------------------------------------------------------+\n",
            "|[Richard Foreman. Christian Bale. ... , Nick Briggs. Sean Bean. ... , Kate Beckinsale. ... , Dirk Bogarde. ... , Michael Caine. ... , John Cleese. ... , Sacha Baron Cohen. ... , Photograph: YANNIS DRAKOULIDIS/2021.]|\n",
            "+-----------------------------------------------------------------------------------------------------------------------------------------------------------------------------------------------------------------------+\n",
            "\n"
          ]
        }
      ]
    },
    {
      "cell_type": "code",
      "source": [
        "# Let's make the entries row wise\n",
        "subset = London.select(F.explode('answer_box.list').alias('actors'))\n",
        "subset.show(truncate = False)"
      ],
      "metadata": {
        "id": "UkB63A2YKiiX",
        "colab": {
          "base_uri": "https://localhost:8080/"
        },
        "outputId": "684a7356-e9fa-41ed-bd30-51e05dcb73e6"
      },
      "execution_count": null,
      "outputs": [
        {
          "output_type": "stream",
          "name": "stdout",
          "text": [
            "+-------------------------------------+\n",
            "|actors                               |\n",
            "+-------------------------------------+\n",
            "|Richard Foreman. Christian Bale. ... |\n",
            "|Nick Briggs. Sean Bean. ...          |\n",
            "|Kate Beckinsale. ...                 |\n",
            "|Dirk Bogarde. ...                    |\n",
            "|Michael Caine. ...                   |\n",
            "|John Cleese. ...                     |\n",
            "|Sacha Baron Cohen. ...               |\n",
            "|Photograph: YANNIS DRAKOULIDIS/2021. |\n",
            "+-------------------------------------+\n",
            "\n"
          ]
        }
      ]
    },
    {
      "cell_type": "code",
      "source": [
        "# Since each entry in row is an array, to perform string manipulations, we need to first convert it into a string\n",
        "subset = subset.withColumn('actors', F.concat_ws(\"\",F.col(\"actors\")))\n",
        "subset.show(truncate = False)"
      ],
      "metadata": {
        "colab": {
          "base_uri": "https://localhost:8080/"
        },
        "id": "Q7O587SzKik3",
        "outputId": "825cd80e-8c81-48e7-b2f7-63060e1583a2"
      },
      "execution_count": null,
      "outputs": [
        {
          "output_type": "stream",
          "name": "stdout",
          "text": [
            "+-------------------------------------+\n",
            "|actors                               |\n",
            "+-------------------------------------+\n",
            "|Richard Foreman. Christian Bale. ... |\n",
            "|Nick Briggs. Sean Bean. ...          |\n",
            "|Kate Beckinsale. ...                 |\n",
            "|Dirk Bogarde. ...                    |\n",
            "|Michael Caine. ...                   |\n",
            "|John Cleese. ...                     |\n",
            "|Sacha Baron Cohen. ...               |\n",
            "|Photograph: YANNIS DRAKOULIDIS/2021. |\n",
            "+-------------------------------------+\n",
            "\n"
          ]
        }
      ]
    },
    {
      "cell_type": "code",
      "source": [
        "# Let's clean the entries\n",
        "subset = subset.withColumn('actors', F.regexp_replace(F.col(\"actors\"), \"\\. \\.\\.\\.\", \"\"))\n",
        "subset = subset.withColumn('actors', F.regexp_replace(F.col(\"actors\"), \"\\. \", \",\"))\n",
        "\n",
        "subset.show(truncate = False)"
      ],
      "metadata": {
        "id": "J9VWyD8jKinc",
        "colab": {
          "base_uri": "https://localhost:8080/"
        },
        "outputId": "30ad058c-c8a5-4ff0-eae1-79c99e98d9df"
      },
      "execution_count": null,
      "outputs": [
        {
          "output_type": "stream",
          "name": "stdout",
          "text": [
            "+------------------------------------+\n",
            "|actors                              |\n",
            "+------------------------------------+\n",
            "|Richard Foreman,Christian Bale      |\n",
            "|Nick Briggs,Sean Bean               |\n",
            "|Kate Beckinsale                     |\n",
            "|Dirk Bogarde                        |\n",
            "|Michael Caine                       |\n",
            "|John Cleese                         |\n",
            "|Sacha Baron Cohen                   |\n",
            "|Photograph: YANNIS DRAKOULIDIS/2021.|\n",
            "+------------------------------------+\n",
            "\n"
          ]
        }
      ]
    },
    {
      "cell_type": "code",
      "source": [
        "# Since we have two actors in the same column, we need to split and then again explode to have these in different rows\n",
        "# And we don't need the last row, so we'll have 9 actors in our dataframe\n",
        "subset = subset.withColumn('actors', F.split(F.col(\"actors\"), \"\\,\"))\n",
        "subset = subset.select(F.explode('actors').alias('actors'))\n",
        "subset.show(9, truncate = False)"
      ],
      "metadata": {
        "id": "OjNAty7BKiqC",
        "colab": {
          "base_uri": "https://localhost:8080/"
        },
        "outputId": "51ac9dfb-cfdc-4f34-fb17-551b99971efc"
      },
      "execution_count": null,
      "outputs": [
        {
          "output_type": "stream",
          "name": "stdout",
          "text": [
            "+------------------+\n",
            "|actors            |\n",
            "+------------------+\n",
            "|Richard Foreman   |\n",
            "|Christian Bale    |\n",
            "|Nick Briggs       |\n",
            "|Sean Bean         |\n",
            "|Kate Beckinsale   |\n",
            "|Dirk Bogarde      |\n",
            "|Michael Caine     |\n",
            "|John Cleese       |\n",
            "|Sacha Baron Cohen |\n",
            "+------------------+\n",
            "only showing top 9 rows\n",
            "\n"
          ]
        }
      ]
    },
    {
      "cell_type": "markdown",
      "source": [
        "# Q9. Examine 'Orang juga bertanya'/'People Also Ask' in the London .json\n",
        "For some reason, this London search result came from the Indonesian Google search engine. 'Orang juga bertanya' is Indonesian for 'People Also Ask'. \n",
        "\n",
        "Click through the HTML and find out 'Who is No 1 actor in the world?', then use code to extract the answer from the .json. Print the text of the answer to get full credit."
      ],
      "metadata": {
        "id": "dm7i5SXvUIrT"
      }
    },
    {
      "cell_type": "code",
      "source": [
        "# Let's first get the 'related_questions' as our answer lies in here as observed from the html and json file\n",
        "questions = London.select(\"related_questions\")\n",
        "questions.printSchema()"
      ],
      "metadata": {
        "id": "-LQGD7IQU4tm",
        "colab": {
          "base_uri": "https://localhost:8080/"
        },
        "outputId": "f835e435-87a0-4ba5-d502-56200c35d45e"
      },
      "execution_count": null,
      "outputs": [
        {
          "output_type": "stream",
          "name": "stdout",
          "text": [
            "root\n",
            " |-- related_questions: array (nullable = true)\n",
            " |    |-- element: struct (containsNull = true)\n",
            " |    |    |-- date: string (nullable = true)\n",
            " |    |    |-- displayed_link: string (nullable = true)\n",
            " |    |    |-- link: string (nullable = true)\n",
            " |    |    |-- list: array (nullable = true)\n",
            " |    |    |    |-- element: string (containsNull = true)\n",
            " |    |    |-- next_page_token: string (nullable = true)\n",
            " |    |    |-- question: string (nullable = true)\n",
            " |    |    |-- serpapi_link: string (nullable = true)\n",
            " |    |    |-- snippet: string (nullable = true)\n",
            " |    |    |-- thumbnail: string (nullable = true)\n",
            " |    |    |-- title: string (nullable = true)\n",
            "\n"
          ]
        }
      ]
    },
    {
      "cell_type": "code",
      "source": [
        "# Our answer is present in the snippet column of the last question\n",
        "# Since there are 4 questions, we need to grab the last one by row index = 3\n",
        "questions.select(F.explode('related_questions.snippet').alias(\"snippet\")).collect()[3][0]"
      ],
      "metadata": {
        "colab": {
          "base_uri": "https://localhost:8080/",
          "height": 53
        },
        "id": "IVRkonZItC8k",
        "outputId": "1085f8ef-dcfd-4620-e3c4-21249f6f5bdc"
      },
      "execution_count": null,
      "outputs": [
        {
          "output_type": "execute_result",
          "data": {
            "text/plain": [
              "'American veteran actor Dwayne Johnson is the most popular actor in the world in 2023. He was born on 2nd May 1972 in Hayward, California. He was one of the greatest WWE wrestlers of all time also known by the ring name “The Rock”. This multi-talented American actor has huge popularity all over the world.'"
            ],
            "application/vnd.google.colaboratory.intrinsic+json": {
              "type": "string"
            }
          },
          "metadata": {},
          "execution_count": 174
        }
      ]
    },
    {
      "cell_type": "markdown",
      "source": [
        "# Q10. Extract a list of the 10 websites listed on the London .json\n",
        "Similar to what you did for Ukraine. These come from the organic results. Should include names like timeout.com, imdb.com, etc."
      ],
      "metadata": {
        "id": "OWxscwiBU2bW"
      }
    },
    {
      "cell_type": "code",
      "source": [
        "# Let's use the same method used for Ukraine\n",
        "# First, let's get the links from organic_results\n",
        "org_links2 = London.select(F.explode('organic_results.link').alias(\"websites\"))\n",
        "org_links2.show(truncate = False)"
      ],
      "metadata": {
        "id": "z-l-TbFLYtET",
        "colab": {
          "base_uri": "https://localhost:8080/"
        },
        "outputId": "ce62dc65-8b4b-45ea-fdde-2c7d50283483"
      },
      "execution_count": null,
      "outputs": [
        {
          "output_type": "stream",
          "name": "stdout",
          "text": [
            "+------------------------------------------------------------------------------------------------------+\n",
            "|websites                                                                                              |\n",
            "+------------------------------------------------------------------------------------------------------+\n",
            "|https://www.imdb.com/search/name/?birth_place=London,+England,+UK                                     |\n",
            "|https://www.mrdustbin.com/us/famous-british-actors/                                                   |\n",
            "|https://www.glamourmagazine.co.uk/gallery/young-hot-british-actors                                    |\n",
            "|https://www.entoin.com/entertainment/british-actors                                                   |\n",
            "|https://londranews.com/english/london-born-actors-many-of-very-different-origins/                     |\n",
            "|https://www.youtube.com/watch?v=9rduOCd8FWU                                                           |\n",
            "|https://www.youtube.com/watch?v=igyp8sxZI_E                                                           |\n",
            "|https://www.thegentlemansjournal.com/article/these-are-the-top-10-greatest-british-actors-of-all-time/|\n",
            "+------------------------------------------------------------------------------------------------------+\n",
            "\n"
          ]
        }
      ]
    },
    {
      "cell_type": "code",
      "source": [
        "# Let's first get the organic results column \n",
        "organic_res2 = London.withColumn(\"subset\",F.explode(\"organic_results\")).select('subset.*')\n",
        "# If we have a column of related_results in organic_results, we will extract the links from the related_results column and drop the null rows\n",
        "if('related_results' in org_res_columns.columns):\n",
        "  rres2 = organic_res2.withColumn(\"subset\",F.explode(\"related_results\")).select('subset.link').dropna()\n",
        "  rres2.show(truncate=False)"
      ],
      "metadata": {
        "colab": {
          "base_uri": "https://localhost:8080/"
        },
        "id": "XtC7YNxDoRx-",
        "outputId": "5d6b067a-56db-43cd-94b2-94e3b0117b37"
      },
      "execution_count": null,
      "outputs": [
        {
          "output_type": "stream",
          "name": "stdout",
          "text": [
            "+--------------------------------------+\n",
            "|link                                  |\n",
            "+--------------------------------------+\n",
            "|https://www.imdb.com/list/ls005761104/|\n",
            "+--------------------------------------+\n",
            "\n"
          ]
        }
      ]
    },
    {
      "cell_type": "code",
      "source": [
        "# Finally, we'll get the link from the answer box, if there is one\n",
        "if('answer_box' in London.columns):\n",
        "  ans_box_link2 = London.select('answer_box.link')\n",
        "  ans_box_link2.show(truncate=False)\n",
        "  flag = 0\n",
        "else:\n",
        "  print('No Answer Box')\n",
        "  flag = 1"
      ],
      "metadata": {
        "colab": {
          "base_uri": "https://localhost:8080/"
        },
        "id": "tE3mzpOKwaVV",
        "outputId": "49f442df-8c17-4d62-fe68-b577026b2c58"
      },
      "execution_count": null,
      "outputs": [
        {
          "output_type": "stream",
          "name": "stdout",
          "text": [
            "+-------------------------------------------------------------+\n",
            "|link                                                         |\n",
            "+-------------------------------------------------------------+\n",
            "|https://www.timeout.com/film/50-great-british-actors-the-list|\n",
            "+-------------------------------------------------------------+\n",
            "\n"
          ]
        }
      ]
    },
    {
      "cell_type": "code",
      "source": [
        "# Let's concatenate all the dataframes\n",
        "from functools import reduce\n",
        "if flag == 1:\n",
        "  dfs2 = [org_links2, rres2]\n",
        "else:\n",
        "  dfs2 = [org_links2, rres2, ans_box_link2]\n",
        "\n",
        "result2 = reduce(F.DataFrame.unionAll, dfs2)\n",
        "result2.show(truncate=False)"
      ],
      "metadata": {
        "colab": {
          "base_uri": "https://localhost:8080/"
        },
        "id": "3C50Bz85xYff",
        "outputId": "e0ecb287-9b62-43e6-cc26-bbe772d7e124"
      },
      "execution_count": null,
      "outputs": [
        {
          "output_type": "stream",
          "name": "stdout",
          "text": [
            "+------------------------------------------------------------------------------------------------------+\n",
            "|websites                                                                                              |\n",
            "+------------------------------------------------------------------------------------------------------+\n",
            "|https://www.imdb.com/search/name/?birth_place=London,+England,+UK                                     |\n",
            "|https://www.mrdustbin.com/us/famous-british-actors/                                                   |\n",
            "|https://www.glamourmagazine.co.uk/gallery/young-hot-british-actors                                    |\n",
            "|https://www.entoin.com/entertainment/british-actors                                                   |\n",
            "|https://londranews.com/english/london-born-actors-many-of-very-different-origins/                     |\n",
            "|https://www.youtube.com/watch?v=9rduOCd8FWU                                                           |\n",
            "|https://www.youtube.com/watch?v=igyp8sxZI_E                                                           |\n",
            "|https://www.thegentlemansjournal.com/article/these-are-the-top-10-greatest-british-actors-of-all-time/|\n",
            "|https://www.imdb.com/list/ls005761104/                                                                |\n",
            "|https://www.timeout.com/film/50-great-british-actors-the-list                                         |\n",
            "+------------------------------------------------------------------------------------------------------+\n",
            "\n"
          ]
        }
      ]
    },
    {
      "cell_type": "markdown",
      "source": [
        "# 🔴 Q11. Comments\n",
        "Make three good bullets that describe what you learned in this assignment. Talk about how even JSON files that are semi-similar can still be difficult to work with if they are heterogenous! "
      ],
      "metadata": {
        "id": "H0Thg7IGZP3v"
      }
    },
    {
      "cell_type": "markdown",
      "source": [
        "1. The first learning was to look through an html file and relate the sections of the webpage in json. The structure of the html could be well understood when looked carefully at the schema of the json. The Schema of the json appears in alphabetical order and not in the order present in the json file\n",
        "\n",
        "2. The second learning was navigating nested structs within a dataframe. Using explode to dive deeper into the structure of the json and obtain dataframes is very crucial to get information that is nested deep into the json.\n",
        "\n",
        "3. The third learning was that structure of webpages can be very different. Some can contain answer box, some can contain nested links, while some other can contain inline images. You have to carefully inspect the json to relate it to the html file. Additionally, to perform string manipulations, you need to convert the arrays to string."
      ],
      "metadata": {
        "id": "Na36_xa4bNgC"
      }
    },
    {
      "cell_type": "markdown",
      "source": [
        "# 🔵 Extra Credit (5 pts)\n",
        "This one is tough because Ukraine only has 9 links and London has 10 links!\n",
        "\n",
        "Read both .json files at once using a wildcard, and make a dataframe with two rows (one for Ukraine and one for London) and 21 columns. The first column has the search query, and the next 10 columns are the (up to) 10 websites and the 10 columns after that are the 10 snippets. Good luck!"
      ],
      "metadata": {
        "id": "JQyjDHbCYi34"
      }
    },
    {
      "cell_type": "markdown",
      "source": [
        "Max grade is 100 points on this assignment, if you still have a 105 score, it will be recoded as 100."
      ],
      "metadata": {
        "id": "QSjun55OaWP-"
      }
    }
  ]
}